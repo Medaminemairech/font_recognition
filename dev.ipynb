{
 "cells": [
  {
   "cell_type": "code",
   "execution_count": 2,
   "id": "c37c4ee1",
   "metadata": {},
   "outputs": [],
   "source": [
    "import os\n",
    "from PIL import Image\n",
    "\n",
    "\n",
    "base_dir = \"c:/Users/amine/Downloads/reduced_technical_test/dataset_word_color/TimesNRMTPro-Bold/\"\n",
    "paths = [os.path.join(base_dir, f) for f in os.listdir(base_dir)]\n",
    "img_path = paths[0]\n",
    "from PIL import Image\n",
    "\n",
    "# Open the image\n",
    "img = Image.open(img_path)"
   ]
  },
  {
   "cell_type": "code",
   "execution_count": 3,
   "id": "5778a733",
   "metadata": {},
   "outputs": [
    {
     "data": {
      "text/plain": [
       "(128, 128)"
      ]
     },
     "execution_count": 3,
     "metadata": {},
     "output_type": "execute_result"
    }
   ],
   "source": [
    "img.size"
   ]
  },
  {
   "cell_type": "code",
   "execution_count": 37,
   "id": "ffca4e23",
   "metadata": {},
   "outputs": [
    {
     "name": "stderr",
     "output_type": "stream",
     "text": [
      "Processing images:  39%|███▉      | 40706/104724 [03:09<04:58, 214.53it/s]  \n"
     ]
    },
    {
     "ename": "KeyboardInterrupt",
     "evalue": "",
     "output_type": "error",
     "traceback": [
      "\u001b[31m---------------------------------------------------------------------------\u001b[39m",
      "\u001b[31mKeyboardInterrupt\u001b[39m                         Traceback (most recent call last)",
      "\u001b[36mCell\u001b[39m\u001b[36m \u001b[39m\u001b[32mIn[37]\u001b[39m\u001b[32m, line 23\u001b[39m\n\u001b[32m     21\u001b[39m \u001b[38;5;66;03m# Single tqdm loop over all images\u001b[39;00m\n\u001b[32m     22\u001b[39m \u001b[38;5;28;01mfor\u001b[39;00m file_path, font_class \u001b[38;5;129;01min\u001b[39;00m tqdm(all_files, desc=\u001b[33m\"\u001b[39m\u001b[33mProcessing images\u001b[39m\u001b[33m\"\u001b[39m):\n\u001b[32m---> \u001b[39m\u001b[32m23\u001b[39m     \u001b[38;5;28;01mwith\u001b[39;00m \u001b[43mImage\u001b[49m\u001b[43m.\u001b[49m\u001b[43mopen\u001b[49m\u001b[43m(\u001b[49m\u001b[43mfile_path\u001b[49m\u001b[43m)\u001b[49m \u001b[38;5;28;01mas\u001b[39;00m img:\n\u001b[32m     24\u001b[39m         w, h = img.size\n\u001b[32m     25\u001b[39m     ids.append(counter)\n",
      "\u001b[36mFile \u001b[39m\u001b[32mc:\\Users\\amine\\miniconda3\\envs\\publicis\\Lib\\site-packages\\PIL\\Image.py:3513\u001b[39m, in \u001b[36mopen\u001b[39m\u001b[34m(fp, mode, formats)\u001b[39m\n\u001b[32m   3511\u001b[39m \u001b[38;5;28;01mif\u001b[39;00m is_path(fp):\n\u001b[32m   3512\u001b[39m     filename = os.fspath(fp)\n\u001b[32m-> \u001b[39m\u001b[32m3513\u001b[39m     fp = builtins.open(filename, \u001b[33m\"\u001b[39m\u001b[33mrb\u001b[39m\u001b[33m\"\u001b[39m)\n\u001b[32m   3514\u001b[39m     exclusive_fp = \u001b[38;5;28;01mTrue\u001b[39;00m\n\u001b[32m   3515\u001b[39m \u001b[38;5;28;01melse\u001b[39;00m:\n",
      "\u001b[31mKeyboardInterrupt\u001b[39m: "
     ]
    }
   ],
   "source": [
    "import os\n",
    "import pandas as pd\n",
    "from PIL import Image\n",
    "from tqdm import tqdm\n",
    "\n",
    "dataset_path = \"c:/Users/amine/Downloads/reduced_technical_test/dataset_word_color\"\n",
    "\n",
    "ids, paths, classes, widths, heights = [], [], [], [], []\n",
    "counter = 0\n",
    "\n",
    "# Collect all image paths first\n",
    "all_files = []\n",
    "for font_class in os.listdir(dataset_path):\n",
    "    class_path = os.path.join(dataset_path, font_class)\n",
    "    if os.path.isdir(class_path):\n",
    "        for file_name in os.listdir(class_path):\n",
    "            file_path = os.path.join(class_path, file_name)\n",
    "            if os.path.isfile(file_path):\n",
    "                all_files.append((file_path, font_class))\n",
    "\n",
    "# Single tqdm loop over all images\n",
    "for file_path, font_class in tqdm(all_files, desc=\"Processing images\"):\n",
    "    with Image.open(file_path) as img:\n",
    "        w, h = img.size\n",
    "    ids.append(counter)\n",
    "    paths.append(file_path)\n",
    "    classes.append(font_class)\n",
    "    widths.append(w)\n",
    "    heights.append(h)\n",
    "    counter += 1\n",
    "\n",
    "df = pd.DataFrame({\n",
    "    \"id\": ids,\n",
    "    \"path\": paths,\n",
    "    \"class\": classes,\n",
    "    \"width\": widths,\n",
    "    \"height\": heights\n",
    "})\n",
    "\n",
    "print(df.head())\n"
   ]
  },
  {
   "cell_type": "code",
   "execution_count": 10,
   "id": "86d3d1c4",
   "metadata": {},
   "outputs": [],
   "source": [
    "import cv2\n",
    "import numpy as np\n",
    "\n",
    "def crop_text_block(image_path, output_path, padding=10):\n",
    "    \"\"\"\n",
    "    Detects the main text block in the image and crops it.\n",
    "    \n",
    "    Parameters:\n",
    "    - image_path: path to input image\n",
    "    - output_path: path to save cropped text block\n",
    "    - padding: extra pixels around detected text block\n",
    "    \"\"\"\n",
    "    # Load image\n",
    "    img = cv2.imread(image_path)\n",
    "    gray = cv2.cvtColor(img, cv2.COLOR_BGR2GRAY)\n",
    "\n",
    "    # Apply binary threshold (invert colors to get text as white)\n",
    "    _, thresh = cv2.threshold(gray, 0, 255, cv2.THRESH_BINARY_INV + cv2.THRESH_OTSU)\n",
    "\n",
    "    # Dilate to merge text lines into one block\n",
    "    kernel = cv2.getStructuringElement(cv2.MORPH_RECT, (15, 15))\n",
    "    dilated = cv2.dilate(thresh, kernel, iterations=1)\n",
    "\n",
    "    # Find contours\n",
    "    contours, _ = cv2.findContours(dilated, cv2.RETR_EXTERNAL, cv2.CHAIN_APPROX_SIMPLE)\n",
    "\n",
    "    # Find the largest contour (assumed to be the main text block)\n",
    "    if not contours:\n",
    "        print(\"No text block found!\")\n",
    "        return None\n",
    "\n",
    "    largest_contour = max(contours, key=cv2.contourArea)\n",
    "    x, y, w, h = cv2.boundingRect(largest_contour)\n",
    "\n",
    "    # Apply padding\n",
    "    x = max(x - padding, 0)\n",
    "    y = max(y - padding, 0)\n",
    "    w = min(w + 2*padding, img.shape[1]-x)\n",
    "    h = min(h + 2*padding, img.shape[0]-y)\n",
    "\n",
    "    # Crop and save\n",
    "    crop = img[y:y+h, x:x+w]\n",
    "    cv2.imwrite(output_path, crop)\n",
    "    print(f\"Cropped text block saved to {output_path}\")\n",
    "    return crop"
   ]
  },
  {
   "cell_type": "code",
   "execution_count": null,
   "id": "15496ad4",
   "metadata": {},
   "outputs": [
    {
     "name": "stderr",
     "output_type": "stream",
     "text": [
      "c:\\Users\\amine\\miniconda3\\envs\\publicis\\Lib\\site-packages\\torchvision\\io\\image.py:13: UserWarning: Failed to load image Python extension: '[WinError 127] The specified procedure could not be found'If you don't plan on using image functionality from `torchvision.io`, you can ignore this warning. Otherwise, there might be something wrong with your environment. Did you have `libjpeg` or `libpng` installed before building `torchvision` from source?\n",
      "  warn(\n"
     ]
    }
   ],
   "source": [
    "from torchvision.models import vit_b_16, ViT_B_16_Weights\n",
    "model = vit_b_16(weights=ViT_B_16_Weights.IMAGENET1K_V1)"
   ]
  },
  {
   "cell_type": "code",
   "execution_count": 19,
   "id": "311dc734",
   "metadata": {},
   "outputs": [
    {
     "name": "stdout",
     "output_type": "stream",
     "text": [
      "Cropped text block saved to cropped_text/cropped_block.png\n"
     ]
    }
   ],
   "source": [
    "\n",
    "output_dir = \"cropped_text\"\n",
    "out = crop_text_block(img_path, f\"{output_dir}/cropped_block.png\")"
   ]
  },
  {
   "cell_type": "code",
   "execution_count": null,
   "id": "66b37501",
   "metadata": {},
   "outputs": [
    {
     "data": {
      "image/jpeg": "[encoded data removed]",
      "image/png": "[encoded data removed]",
      "text/plain": [
       "<PIL.PngImagePlugin.PngImageFile image mode=RGB size=128x128>"
      ]
     },
     "execution_count": 17,
     "metadata": {},
     "output_type": "execute_result"
    }
   ],
   "source": []
  }
 ],
 "metadata": {
  "kernelspec": {
   "display_name": "publicis",
   "language": "python",
   "name": "python3"
  },
  "language_info": {
   "codemirror_mode": {
    "name": "ipython",
    "version": 3
   },
   "file_extension": ".py",
   "mimetype": "text/x-python",
   "name": "python",
   "nbconvert_exporter": "python",
   "pygments_lexer": "ipython3",
   "version": "3.11.13"
  }
 },
 "nbformat": 4,
 "nbformat_minor": 5
}
